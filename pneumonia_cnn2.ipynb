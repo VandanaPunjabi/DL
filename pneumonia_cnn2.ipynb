{
 "cells": [
  {
   "cell_type": "code",
   "execution_count": 1,
   "id": "6b9bf896",
   "metadata": {},
   "outputs": [],
   "source": [
    "import os\n",
    "import shutil\n",
    "import random\n",
    "import PIL\n",
    "import cv2"
   ]
  },
  {
   "cell_type": "code",
   "execution_count": 2,
   "id": "2ceaf488",
   "metadata": {},
   "outputs": [],
   "source": [
    "import tensorflow as tf\n",
    "from tensorflow.keras import layers, models\n",
    "from tensorflow.keras.preprocessing.image import ImageDataGenerator\n",
    "import matplotlib.pyplot as plt"
   ]
  },
  {
   "cell_type": "code",
   "execution_count": 3,
   "id": "b340789e",
   "metadata": {},
   "outputs": [],
   "source": [
    "train_data=\"DL-datasets/Pneumonia X Ray/train\""
   ]
  },
  {
   "cell_type": "code",
   "execution_count": 4,
   "id": "787979d4",
   "metadata": {},
   "outputs": [],
   "source": [
    "test_data=\"DL-datasets/Pneumonia X Ray/test\""
   ]
  },
  {
   "cell_type": "code",
   "execution_count": 5,
   "id": "3bad809e",
   "metadata": {},
   "outputs": [],
   "source": [
    "import pathlib\n",
    "train_data=pathlib.Path(train_data)\n",
    "test_data=pathlib.Path(test_data)"
   ]
  },
  {
   "cell_type": "code",
   "execution_count": 6,
   "id": "88100015",
   "metadata": {},
   "outputs": [],
   "source": [
    "class_name = ['Pneumonia' , 'Normal']"
   ]
  },
  {
   "cell_type": "code",
   "execution_count": 7,
   "id": "821f0e89",
   "metadata": {},
   "outputs": [],
   "source": [
    "normal_img = list(train_data.glob('NORMAL/*'))"
   ]
  },
  {
   "cell_type": "code",
   "execution_count": 8,
   "id": "36f3e616",
   "metadata": {},
   "outputs": [
    {
     "data": {
      "text/plain": [
       "[WindowsPath('DL-datasets/Pneumonia X Ray/train/NORMAL/NORMAL2-IM-0695-0001.jpeg'),\n",
       " WindowsPath('DL-datasets/Pneumonia X Ray/train/NORMAL/NORMAL2-IM-0696-0001.jpeg'),\n",
       " WindowsPath('DL-datasets/Pneumonia X Ray/train/NORMAL/NORMAL2-IM-0698-0001.jpeg'),\n",
       " WindowsPath('DL-datasets/Pneumonia X Ray/train/NORMAL/NORMAL2-IM-0702-0001.jpeg'),\n",
       " WindowsPath('DL-datasets/Pneumonia X Ray/train/NORMAL/NORMAL2-IM-0707-0001.jpeg'),\n",
       " WindowsPath('DL-datasets/Pneumonia X Ray/train/NORMAL/NORMAL2-IM-0718-0001.jpeg'),\n",
       " WindowsPath('DL-datasets/Pneumonia X Ray/train/NORMAL/NORMAL2-IM-0719-0001.jpeg'),\n",
       " WindowsPath('DL-datasets/Pneumonia X Ray/train/NORMAL/NORMAL2-IM-0725-0001.jpeg'),\n",
       " WindowsPath('DL-datasets/Pneumonia X Ray/train/NORMAL/NORMAL2-IM-0727-0001.jpeg'),\n",
       " WindowsPath('DL-datasets/Pneumonia X Ray/train/NORMAL/NORMAL2-IM-0730-0001.jpeg'),\n",
       " WindowsPath('DL-datasets/Pneumonia X Ray/train/NORMAL/NORMAL2-IM-0736-0001.jpeg'),\n",
       " WindowsPath('DL-datasets/Pneumonia X Ray/train/NORMAL/NORMAL2-IM-0741-0001.jpeg'),\n",
       " WindowsPath('DL-datasets/Pneumonia X Ray/train/NORMAL/NORMAL2-IM-0749-0001.jpeg'),\n",
       " WindowsPath('DL-datasets/Pneumonia X Ray/train/NORMAL/NORMAL2-IM-0753-0001.jpeg'),\n",
       " WindowsPath('DL-datasets/Pneumonia X Ray/train/NORMAL/NORMAL2-IM-0757-0001.jpeg'),\n",
       " WindowsPath('DL-datasets/Pneumonia X Ray/train/NORMAL/NORMAL2-IM-0765-0001.jpeg'),\n",
       " WindowsPath('DL-datasets/Pneumonia X Ray/train/NORMAL/NORMAL2-IM-0771-0001.jpeg'),\n",
       " WindowsPath('DL-datasets/Pneumonia X Ray/train/NORMAL/NORMAL2-IM-0772-0001.jpeg'),\n",
       " WindowsPath('DL-datasets/Pneumonia X Ray/train/NORMAL/NORMAL2-IM-0774-0001.jpeg'),\n",
       " WindowsPath('DL-datasets/Pneumonia X Ray/train/NORMAL/NORMAL2-IM-0775-0001.jpeg'),\n",
       " WindowsPath('DL-datasets/Pneumonia X Ray/train/NORMAL/NORMAL2-IM-0776-0001.jpeg'),\n",
       " WindowsPath('DL-datasets/Pneumonia X Ray/train/NORMAL/NORMAL2-IM-0777-0001.jpeg'),\n",
       " WindowsPath('DL-datasets/Pneumonia X Ray/train/NORMAL/NORMAL2-IM-0781-0001.jpeg'),\n",
       " WindowsPath('DL-datasets/Pneumonia X Ray/train/NORMAL/NORMAL2-IM-0790-0001.jpeg'),\n",
       " WindowsPath('DL-datasets/Pneumonia X Ray/train/NORMAL/NORMAL2-IM-0798-0001.jpeg'),\n",
       " WindowsPath('DL-datasets/Pneumonia X Ray/train/NORMAL/NORMAL2-IM-0803-0001.jpeg'),\n",
       " WindowsPath('DL-datasets/Pneumonia X Ray/train/NORMAL/NORMAL2-IM-0804-0001.jpeg'),\n",
       " WindowsPath('DL-datasets/Pneumonia X Ray/train/NORMAL/NORMAL2-IM-0806-0001.jpeg'),\n",
       " WindowsPath('DL-datasets/Pneumonia X Ray/train/NORMAL/NORMAL2-IM-0807-0001.jpeg'),\n",
       " WindowsPath('DL-datasets/Pneumonia X Ray/train/NORMAL/NORMAL2-IM-0808-0001.jpeg'),\n",
       " WindowsPath('DL-datasets/Pneumonia X Ray/train/NORMAL/NORMAL2-IM-0809-0001.jpeg'),\n",
       " WindowsPath('DL-datasets/Pneumonia X Ray/train/NORMAL/NORMAL2-IM-0810-0001.jpeg'),\n",
       " WindowsPath('DL-datasets/Pneumonia X Ray/train/NORMAL/NORMAL2-IM-0811-0001.jpeg'),\n",
       " WindowsPath('DL-datasets/Pneumonia X Ray/train/NORMAL/NORMAL2-IM-0812-0001.jpeg'),\n",
       " WindowsPath('DL-datasets/Pneumonia X Ray/train/NORMAL/NORMAL2-IM-0814-0001.jpeg'),\n",
       " WindowsPath('DL-datasets/Pneumonia X Ray/train/NORMAL/NORMAL2-IM-0815-0001.jpeg'),\n",
       " WindowsPath('DL-datasets/Pneumonia X Ray/train/NORMAL/NORMAL2-IM-0816-0001.jpeg'),\n",
       " WindowsPath('DL-datasets/Pneumonia X Ray/train/NORMAL/NORMAL2-IM-0818-0001-0002.jpeg'),\n",
       " WindowsPath('DL-datasets/Pneumonia X Ray/train/NORMAL/NORMAL2-IM-0818-0001.jpeg'),\n",
       " WindowsPath('DL-datasets/Pneumonia X Ray/train/NORMAL/NORMAL2-IM-0819-0001.jpeg'),\n",
       " WindowsPath('DL-datasets/Pneumonia X Ray/train/NORMAL/NORMAL2-IM-0820-0001.jpeg'),\n",
       " WindowsPath('DL-datasets/Pneumonia X Ray/train/NORMAL/NORMAL2-IM-0821-0001.jpeg'),\n",
       " WindowsPath('DL-datasets/Pneumonia X Ray/train/NORMAL/NORMAL2-IM-0822-0001.jpeg'),\n",
       " WindowsPath('DL-datasets/Pneumonia X Ray/train/NORMAL/NORMAL2-IM-0824-0001.jpeg'),\n",
       " WindowsPath('DL-datasets/Pneumonia X Ray/train/NORMAL/NORMAL2-IM-0825-0001.jpeg'),\n",
       " WindowsPath('DL-datasets/Pneumonia X Ray/train/NORMAL/NORMAL2-IM-0826-0001.jpeg'),\n",
       " WindowsPath('DL-datasets/Pneumonia X Ray/train/NORMAL/NORMAL2-IM-0827-0001.jpeg'),\n",
       " WindowsPath('DL-datasets/Pneumonia X Ray/train/NORMAL/NORMAL2-IM-0828-0001.jpeg'),\n",
       " WindowsPath('DL-datasets/Pneumonia X Ray/train/NORMAL/NORMAL2-IM-0829-0001.jpeg'),\n",
       " WindowsPath('DL-datasets/Pneumonia X Ray/train/NORMAL/NORMAL2-IM-0830-0001.jpeg'),\n",
       " WindowsPath('DL-datasets/Pneumonia X Ray/train/NORMAL/NORMAL2-IM-0831-0001.jpeg'),\n",
       " WindowsPath('DL-datasets/Pneumonia X Ray/train/NORMAL/NORMAL2-IM-0832-0001-0001.jpeg'),\n",
       " WindowsPath('DL-datasets/Pneumonia X Ray/train/NORMAL/NORMAL2-IM-0832-0001-0002.jpeg'),\n",
       " WindowsPath('DL-datasets/Pneumonia X Ray/train/NORMAL/NORMAL2-IM-0832-0001.jpeg'),\n",
       " WindowsPath('DL-datasets/Pneumonia X Ray/train/NORMAL/NORMAL2-IM-0833-0001.jpeg'),\n",
       " WindowsPath('DL-datasets/Pneumonia X Ray/train/NORMAL/NORMAL2-IM-0834-0001.jpeg'),\n",
       " WindowsPath('DL-datasets/Pneumonia X Ray/train/NORMAL/NORMAL2-IM-0836-0001.jpeg'),\n",
       " WindowsPath('DL-datasets/Pneumonia X Ray/train/NORMAL/NORMAL2-IM-0837-0001.jpeg'),\n",
       " WindowsPath('DL-datasets/Pneumonia X Ray/train/NORMAL/NORMAL2-IM-0838-0001.jpeg'),\n",
       " WindowsPath('DL-datasets/Pneumonia X Ray/train/NORMAL/NORMAL2-IM-0839-0001.jpeg'),\n",
       " WindowsPath('DL-datasets/Pneumonia X Ray/train/NORMAL/NORMAL2-IM-0840-0001.jpeg'),\n",
       " WindowsPath('DL-datasets/Pneumonia X Ray/train/NORMAL/NORMAL2-IM-0841-0001.jpeg'),\n",
       " WindowsPath('DL-datasets/Pneumonia X Ray/train/NORMAL/NORMAL2-IM-0842-0001.jpeg'),\n",
       " WindowsPath('DL-datasets/Pneumonia X Ray/train/NORMAL/NORMAL2-IM-0843-0001.jpeg'),\n",
       " WindowsPath('DL-datasets/Pneumonia X Ray/train/NORMAL/NORMAL2-IM-0845-0001.jpeg'),\n",
       " WindowsPath('DL-datasets/Pneumonia X Ray/train/NORMAL/NORMAL2-IM-0846-0001.jpeg'),\n",
       " WindowsPath('DL-datasets/Pneumonia X Ray/train/NORMAL/NORMAL2-IM-0847-0001.jpeg'),\n",
       " WindowsPath('DL-datasets/Pneumonia X Ray/train/NORMAL/NORMAL2-IM-0848-0001.jpeg'),\n",
       " WindowsPath('DL-datasets/Pneumonia X Ray/train/NORMAL/NORMAL2-IM-0849-0001.jpeg'),\n",
       " WindowsPath('DL-datasets/Pneumonia X Ray/train/NORMAL/NORMAL2-IM-0851-0001-0001.jpeg'),\n",
       " WindowsPath('DL-datasets/Pneumonia X Ray/train/NORMAL/NORMAL2-IM-0851-0001-0002.jpeg'),\n",
       " WindowsPath('DL-datasets/Pneumonia X Ray/train/NORMAL/NORMAL2-IM-0851-0001.jpeg'),\n",
       " WindowsPath('DL-datasets/Pneumonia X Ray/train/NORMAL/NORMAL2-IM-0852-0001.jpeg'),\n",
       " WindowsPath('DL-datasets/Pneumonia X Ray/train/NORMAL/NORMAL2-IM-0853-0001.jpeg'),\n",
       " WindowsPath('DL-datasets/Pneumonia X Ray/train/NORMAL/NORMAL2-IM-0854-0001.jpeg'),\n",
       " WindowsPath('DL-datasets/Pneumonia X Ray/train/NORMAL/NORMAL2-IM-0855-0001.jpeg'),\n",
       " WindowsPath('DL-datasets/Pneumonia X Ray/train/NORMAL/NORMAL2-IM-0856-0001.jpeg'),\n",
       " WindowsPath('DL-datasets/Pneumonia X Ray/train/NORMAL/NORMAL2-IM-0857-0001.jpeg'),\n",
       " WindowsPath('DL-datasets/Pneumonia X Ray/train/NORMAL/NORMAL2-IM-0858-0001.jpeg'),\n",
       " WindowsPath('DL-datasets/Pneumonia X Ray/train/NORMAL/NORMAL2-IM-0859-0001.jpeg'),\n",
       " WindowsPath('DL-datasets/Pneumonia X Ray/train/NORMAL/NORMAL2-IM-0860-0001.jpeg'),\n",
       " WindowsPath('DL-datasets/Pneumonia X Ray/train/NORMAL/NORMAL2-IM-0862-0001.jpeg'),\n",
       " WindowsPath('DL-datasets/Pneumonia X Ray/train/NORMAL/NORMAL2-IM-0863-0001.jpeg'),\n",
       " WindowsPath('DL-datasets/Pneumonia X Ray/train/NORMAL/NORMAL2-IM-0865-0001.jpeg'),\n",
       " WindowsPath('DL-datasets/Pneumonia X Ray/train/NORMAL/NORMAL2-IM-0866-0001.jpeg'),\n",
       " WindowsPath('DL-datasets/Pneumonia X Ray/train/NORMAL/NORMAL2-IM-0867-0001.jpeg'),\n",
       " WindowsPath('DL-datasets/Pneumonia X Ray/train/NORMAL/NORMAL2-IM-0868-0001.jpeg'),\n",
       " WindowsPath('DL-datasets/Pneumonia X Ray/train/NORMAL/NORMAL2-IM-0869-0001.jpeg'),\n",
       " WindowsPath('DL-datasets/Pneumonia X Ray/train/NORMAL/NORMAL2-IM-0870-0001.jpeg'),\n",
       " WindowsPath('DL-datasets/Pneumonia X Ray/train/NORMAL/NORMAL2-IM-0871-0001.jpeg'),\n",
       " WindowsPath('DL-datasets/Pneumonia X Ray/train/NORMAL/NORMAL2-IM-0872-0001.jpeg'),\n",
       " WindowsPath('DL-datasets/Pneumonia X Ray/train/NORMAL/NORMAL2-IM-0873-0001.jpeg'),\n",
       " WindowsPath('DL-datasets/Pneumonia X Ray/train/NORMAL/NORMAL2-IM-0874-0001.jpeg'),\n",
       " WindowsPath('DL-datasets/Pneumonia X Ray/train/NORMAL/NORMAL2-IM-0875-0001.jpeg'),\n",
       " WindowsPath('DL-datasets/Pneumonia X Ray/train/NORMAL/NORMAL2-IM-0876-0001.jpeg'),\n",
       " WindowsPath('DL-datasets/Pneumonia X Ray/train/NORMAL/NORMAL2-IM-0877-0001.jpeg'),\n",
       " WindowsPath('DL-datasets/Pneumonia X Ray/train/NORMAL/NORMAL2-IM-0879-0001.jpeg'),\n",
       " WindowsPath('DL-datasets/Pneumonia X Ray/train/NORMAL/NORMAL2-IM-0880-0001.jpeg'),\n",
       " WindowsPath('DL-datasets/Pneumonia X Ray/train/NORMAL/NORMAL2-IM-0881-0001.jpeg'),\n",
       " WindowsPath('DL-datasets/Pneumonia X Ray/train/NORMAL/NORMAL2-IM-0882-0001.jpeg'),\n",
       " WindowsPath('DL-datasets/Pneumonia X Ray/train/NORMAL/NORMAL2-IM-0885-0001.jpeg'),\n",
       " WindowsPath('DL-datasets/Pneumonia X Ray/train/NORMAL/NORMAL2-IM-0886-0001.jpeg'),\n",
       " WindowsPath('DL-datasets/Pneumonia X Ray/train/NORMAL/NORMAL2-IM-0887-0001.jpeg'),\n",
       " WindowsPath('DL-datasets/Pneumonia X Ray/train/NORMAL/NORMAL2-IM-0888-0001.jpeg'),\n",
       " WindowsPath('DL-datasets/Pneumonia X Ray/train/NORMAL/NORMAL2-IM-0890-0001.jpeg'),\n",
       " WindowsPath('DL-datasets/Pneumonia X Ray/train/NORMAL/NORMAL2-IM-0892-0001.jpeg'),\n",
       " WindowsPath('DL-datasets/Pneumonia X Ray/train/NORMAL/NORMAL2-IM-0893-0001.jpeg'),\n",
       " WindowsPath('DL-datasets/Pneumonia X Ray/train/NORMAL/NORMAL2-IM-0894-0001.jpeg'),\n",
       " WindowsPath('DL-datasets/Pneumonia X Ray/train/NORMAL/NORMAL2-IM-0895-0001.jpeg'),\n",
       " WindowsPath('DL-datasets/Pneumonia X Ray/train/NORMAL/NORMAL2-IM-0896-0001.jpeg'),\n",
       " WindowsPath('DL-datasets/Pneumonia X Ray/train/NORMAL/NORMAL2-IM-0897-0001.jpeg'),\n",
       " WindowsPath('DL-datasets/Pneumonia X Ray/train/NORMAL/NORMAL2-IM-0898-0001.jpeg'),\n",
       " WindowsPath('DL-datasets/Pneumonia X Ray/train/NORMAL/NORMAL2-IM-0899-0001.jpeg'),\n",
       " WindowsPath('DL-datasets/Pneumonia X Ray/train/NORMAL/NORMAL2-IM-0900-0001.jpeg'),\n",
       " WindowsPath('DL-datasets/Pneumonia X Ray/train/NORMAL/NORMAL2-IM-0903-0001.jpeg'),\n",
       " WindowsPath('DL-datasets/Pneumonia X Ray/train/NORMAL/NORMAL2-IM-0904-0001.jpeg'),\n",
       " WindowsPath('DL-datasets/Pneumonia X Ray/train/NORMAL/NORMAL2-IM-0905-0001.jpeg'),\n",
       " WindowsPath('DL-datasets/Pneumonia X Ray/train/NORMAL/NORMAL2-IM-0906-0001.jpeg'),\n",
       " WindowsPath('DL-datasets/Pneumonia X Ray/train/NORMAL/NORMAL2-IM-0907-0001.jpeg'),\n",
       " WindowsPath('DL-datasets/Pneumonia X Ray/train/NORMAL/NORMAL2-IM-0908-0001.jpeg'),\n",
       " WindowsPath('DL-datasets/Pneumonia X Ray/train/NORMAL/NORMAL2-IM-0909-0001.jpeg'),\n",
       " WindowsPath('DL-datasets/Pneumonia X Ray/train/NORMAL/NORMAL2-IM-0910-0001.jpeg'),\n",
       " WindowsPath('DL-datasets/Pneumonia X Ray/train/NORMAL/NORMAL2-IM-0911-0001.jpeg'),\n",
       " WindowsPath('DL-datasets/Pneumonia X Ray/train/NORMAL/NORMAL2-IM-0912-0001.jpeg'),\n",
       " WindowsPath('DL-datasets/Pneumonia X Ray/train/NORMAL/NORMAL2-IM-0913-0001.jpeg'),\n",
       " WindowsPath('DL-datasets/Pneumonia X Ray/train/NORMAL/NORMAL2-IM-0914-0001.jpeg'),\n",
       " WindowsPath('DL-datasets/Pneumonia X Ray/train/NORMAL/NORMAL2-IM-0915-0001.jpeg'),\n",
       " WindowsPath('DL-datasets/Pneumonia X Ray/train/NORMAL/NORMAL2-IM-0917-0001.jpeg'),\n",
       " WindowsPath('DL-datasets/Pneumonia X Ray/train/NORMAL/NORMAL2-IM-0918-0001.jpeg'),\n",
       " WindowsPath('DL-datasets/Pneumonia X Ray/train/NORMAL/NORMAL2-IM-0919-0001.jpeg'),\n",
       " WindowsPath('DL-datasets/Pneumonia X Ray/train/NORMAL/NORMAL2-IM-0922-0001.jpeg'),\n",
       " WindowsPath('DL-datasets/Pneumonia X Ray/train/NORMAL/NORMAL2-IM-0923-0001.jpeg'),\n",
       " WindowsPath('DL-datasets/Pneumonia X Ray/train/NORMAL/NORMAL2-IM-0924-0001.jpeg'),\n",
       " WindowsPath('DL-datasets/Pneumonia X Ray/train/NORMAL/NORMAL2-IM-0925-0001.jpeg'),\n",
       " WindowsPath('DL-datasets/Pneumonia X Ray/train/NORMAL/NORMAL2-IM-0926-0001.jpeg'),\n",
       " WindowsPath('DL-datasets/Pneumonia X Ray/train/NORMAL/NORMAL2-IM-0927-0001.jpeg'),\n",
       " WindowsPath('DL-datasets/Pneumonia X Ray/train/NORMAL/NORMAL2-IM-0929-0001.jpeg'),\n",
       " WindowsPath('DL-datasets/Pneumonia X Ray/train/NORMAL/NORMAL2-IM-0930-0001.jpeg'),\n",
       " WindowsPath('DL-datasets/Pneumonia X Ray/train/NORMAL/NORMAL2-IM-0931-0001.jpeg'),\n",
       " WindowsPath('DL-datasets/Pneumonia X Ray/train/NORMAL/NORMAL2-IM-0932-0001.jpeg'),\n",
       " WindowsPath('DL-datasets/Pneumonia X Ray/train/NORMAL/NORMAL2-IM-0933-0001.jpeg'),\n",
       " WindowsPath('DL-datasets/Pneumonia X Ray/train/NORMAL/NORMAL2-IM-0934-0001.jpeg'),\n",
       " WindowsPath('DL-datasets/Pneumonia X Ray/train/NORMAL/NORMAL2-IM-0935-0001.jpeg'),\n",
       " WindowsPath('DL-datasets/Pneumonia X Ray/train/NORMAL/NORMAL2-IM-0936-0001.jpeg'),\n",
       " WindowsPath('DL-datasets/Pneumonia X Ray/train/NORMAL/NORMAL2-IM-0937-0001.jpeg'),\n",
       " WindowsPath('DL-datasets/Pneumonia X Ray/train/NORMAL/NORMAL2-IM-0939-0001.jpeg'),\n",
       " WindowsPath('DL-datasets/Pneumonia X Ray/train/NORMAL/NORMAL2-IM-0941-0001.jpeg'),\n",
       " WindowsPath('DL-datasets/Pneumonia X Ray/train/NORMAL/NORMAL2-IM-0942-0001.jpeg'),\n",
       " WindowsPath('DL-datasets/Pneumonia X Ray/train/NORMAL/NORMAL2-IM-0944-0001.jpeg'),\n",
       " WindowsPath('DL-datasets/Pneumonia X Ray/train/NORMAL/NORMAL2-IM-0945-0001.jpeg'),\n",
       " WindowsPath('DL-datasets/Pneumonia X Ray/train/NORMAL/NORMAL2-IM-0946-0001.jpeg'),\n",
       " WindowsPath('DL-datasets/Pneumonia X Ray/train/NORMAL/NORMAL2-IM-0947-0001.jpeg'),\n",
       " WindowsPath('DL-datasets/Pneumonia X Ray/train/NORMAL/NORMAL2-IM-0948-0001.jpeg'),\n",
       " WindowsPath('DL-datasets/Pneumonia X Ray/train/NORMAL/NORMAL2-IM-0949-0001.jpeg'),\n",
       " WindowsPath('DL-datasets/Pneumonia X Ray/train/NORMAL/NORMAL2-IM-0950-0001.jpeg'),\n",
       " WindowsPath('DL-datasets/Pneumonia X Ray/train/NORMAL/NORMAL2-IM-0951-0001.jpeg'),\n",
       " WindowsPath('DL-datasets/Pneumonia X Ray/train/NORMAL/NORMAL2-IM-0952-0001.jpeg'),\n",
       " WindowsPath('DL-datasets/Pneumonia X Ray/train/NORMAL/NORMAL2-IM-0954-0001.jpeg'),\n",
       " WindowsPath('DL-datasets/Pneumonia X Ray/train/NORMAL/NORMAL2-IM-0955-0001.jpeg'),\n",
       " WindowsPath('DL-datasets/Pneumonia X Ray/train/NORMAL/NORMAL2-IM-0956-0001.jpeg'),\n",
       " WindowsPath('DL-datasets/Pneumonia X Ray/train/NORMAL/NORMAL2-IM-0957-0001.jpeg'),\n",
       " WindowsPath('DL-datasets/Pneumonia X Ray/train/NORMAL/NORMAL2-IM-0959-0001.jpeg'),\n",
       " WindowsPath('DL-datasets/Pneumonia X Ray/train/NORMAL/NORMAL2-IM-0960-0001.jpeg'),\n",
       " WindowsPath('DL-datasets/Pneumonia X Ray/train/NORMAL/NORMAL2-IM-0961-0001.jpeg'),\n",
       " WindowsPath('DL-datasets/Pneumonia X Ray/train/NORMAL/NORMAL2-IM-0962-0001.jpeg'),\n",
       " WindowsPath('DL-datasets/Pneumonia X Ray/train/NORMAL/NORMAL2-IM-0965-0001.jpeg'),\n",
       " WindowsPath('DL-datasets/Pneumonia X Ray/train/NORMAL/NORMAL2-IM-0966-0001.jpeg'),\n",
       " WindowsPath('DL-datasets/Pneumonia X Ray/train/NORMAL/NORMAL2-IM-0967-0001.jpeg'),\n",
       " WindowsPath('DL-datasets/Pneumonia X Ray/train/NORMAL/NORMAL2-IM-0969-0001.jpeg'),\n",
       " WindowsPath('DL-datasets/Pneumonia X Ray/train/NORMAL/NORMAL2-IM-0970-0001.jpeg'),\n",
       " WindowsPath('DL-datasets/Pneumonia X Ray/train/NORMAL/NORMAL2-IM-0971-0001-0001.jpeg'),\n",
       " WindowsPath('DL-datasets/Pneumonia X Ray/train/NORMAL/NORMAL2-IM-0971-0001-0002.jpeg'),\n",
       " WindowsPath('DL-datasets/Pneumonia X Ray/train/NORMAL/NORMAL2-IM-0974-0001.jpeg'),\n",
       " WindowsPath('DL-datasets/Pneumonia X Ray/train/NORMAL/NORMAL2-IM-0975-0001.jpeg'),\n",
       " WindowsPath('DL-datasets/Pneumonia X Ray/train/NORMAL/NORMAL2-IM-0976-0001.jpeg'),\n",
       " WindowsPath('DL-datasets/Pneumonia X Ray/train/NORMAL/NORMAL2-IM-0977-0001.jpeg'),\n",
       " WindowsPath('DL-datasets/Pneumonia X Ray/train/NORMAL/NORMAL2-IM-0978-0001.jpeg'),\n",
       " WindowsPath('DL-datasets/Pneumonia X Ray/train/NORMAL/NORMAL2-IM-0979-0001.jpeg'),\n",
       " WindowsPath('DL-datasets/Pneumonia X Ray/train/NORMAL/NORMAL2-IM-0980-0001.jpeg'),\n",
       " WindowsPath('DL-datasets/Pneumonia X Ray/train/NORMAL/NORMAL2-IM-0981-0001.jpeg'),\n",
       " WindowsPath('DL-datasets/Pneumonia X Ray/train/NORMAL/NORMAL2-IM-0983-0001-0001.jpeg'),\n",
       " WindowsPath('DL-datasets/Pneumonia X Ray/train/NORMAL/NORMAL2-IM-0983-0001-0002.jpeg'),\n",
       " WindowsPath('DL-datasets/Pneumonia X Ray/train/NORMAL/NORMAL2-IM-0983-0001.jpeg'),\n",
       " WindowsPath('DL-datasets/Pneumonia X Ray/train/NORMAL/NORMAL2-IM-0986-0001.jpeg'),\n",
       " WindowsPath('DL-datasets/Pneumonia X Ray/train/NORMAL/NORMAL2-IM-0987-0001.jpeg'),\n",
       " WindowsPath('DL-datasets/Pneumonia X Ray/train/NORMAL/NORMAL2-IM-0988-0001.jpeg'),\n",
       " WindowsPath('DL-datasets/Pneumonia X Ray/train/NORMAL/NORMAL2-IM-0989-0001.jpeg'),\n",
       " WindowsPath('DL-datasets/Pneumonia X Ray/train/NORMAL/NORMAL2-IM-0992-0001.jpeg'),\n",
       " WindowsPath('DL-datasets/Pneumonia X Ray/train/NORMAL/NORMAL2-IM-0993-0001.jpeg'),\n",
       " WindowsPath('DL-datasets/Pneumonia X Ray/train/NORMAL/NORMAL2-IM-0994-0001.jpeg'),\n",
       " WindowsPath('DL-datasets/Pneumonia X Ray/train/NORMAL/NORMAL2-IM-0995-0001-0001.jpeg'),\n",
       " WindowsPath('DL-datasets/Pneumonia X Ray/train/NORMAL/NORMAL2-IM-0995-0001-0002.jpeg'),\n",
       " WindowsPath('DL-datasets/Pneumonia X Ray/train/NORMAL/NORMAL2-IM-0995-0001.jpeg'),\n",
       " WindowsPath('DL-datasets/Pneumonia X Ray/train/NORMAL/NORMAL2-IM-0997-0001.jpeg'),\n",
       " WindowsPath('DL-datasets/Pneumonia X Ray/train/NORMAL/NORMAL2-IM-0998-0001.jpeg'),\n",
       " WindowsPath('DL-datasets/Pneumonia X Ray/train/NORMAL/NORMAL2-IM-0999-0001.jpeg'),\n",
       " WindowsPath('DL-datasets/Pneumonia X Ray/train/NORMAL/NORMAL2-IM-1001-0001.jpeg'),\n",
       " WindowsPath('DL-datasets/Pneumonia X Ray/train/NORMAL/NORMAL2-IM-1002-0001.jpeg'),\n",
       " WindowsPath('DL-datasets/Pneumonia X Ray/train/NORMAL/NORMAL2-IM-1004-0001.jpeg'),\n",
       " WindowsPath('DL-datasets/Pneumonia X Ray/train/NORMAL/NORMAL2-IM-1005-0001.jpeg'),\n",
       " WindowsPath('DL-datasets/Pneumonia X Ray/train/NORMAL/NORMAL2-IM-1006-0001.jpeg'),\n",
       " WindowsPath('DL-datasets/Pneumonia X Ray/train/NORMAL/NORMAL2-IM-1008-0001.jpeg'),\n",
       " WindowsPath('DL-datasets/Pneumonia X Ray/train/NORMAL/NORMAL2-IM-1010-0001.jpeg'),\n",
       " WindowsPath('DL-datasets/Pneumonia X Ray/train/NORMAL/NORMAL2-IM-1011-0001.jpeg'),\n",
       " WindowsPath('DL-datasets/Pneumonia X Ray/train/NORMAL/NORMAL2-IM-1014-0001.jpeg'),\n",
       " WindowsPath('DL-datasets/Pneumonia X Ray/train/NORMAL/NORMAL2-IM-1015-0001.jpeg'),\n",
       " WindowsPath('DL-datasets/Pneumonia X Ray/train/NORMAL/NORMAL2-IM-1016-0001.jpeg'),\n",
       " WindowsPath('DL-datasets/Pneumonia X Ray/train/NORMAL/NORMAL2-IM-1017-0001.jpeg'),\n",
       " WindowsPath('DL-datasets/Pneumonia X Ray/train/NORMAL/NORMAL2-IM-1018-0001.jpeg'),\n",
       " WindowsPath('DL-datasets/Pneumonia X Ray/train/NORMAL/NORMAL2-IM-1019-0001.jpeg'),\n",
       " WindowsPath('DL-datasets/Pneumonia X Ray/train/NORMAL/NORMAL2-IM-1020-0001-0001.jpeg'),\n",
       " WindowsPath('DL-datasets/Pneumonia X Ray/train/NORMAL/NORMAL2-IM-1020-0001-0002.jpeg'),\n",
       " WindowsPath('DL-datasets/Pneumonia X Ray/train/NORMAL/NORMAL2-IM-1020-0001.jpeg'),\n",
       " WindowsPath('DL-datasets/Pneumonia X Ray/train/NORMAL/NORMAL2-IM-1022-0001.jpeg'),\n",
       " WindowsPath('DL-datasets/Pneumonia X Ray/train/NORMAL/NORMAL2-IM-1023-0001.jpeg'),\n",
       " WindowsPath('DL-datasets/Pneumonia X Ray/train/NORMAL/NORMAL2-IM-1024-0001.jpeg'),\n",
       " WindowsPath('DL-datasets/Pneumonia X Ray/train/NORMAL/NORMAL2-IM-1025-0001.jpeg'),\n",
       " WindowsPath('DL-datasets/Pneumonia X Ray/train/NORMAL/NORMAL2-IM-1026-0001.jpeg'),\n",
       " WindowsPath('DL-datasets/Pneumonia X Ray/train/NORMAL/NORMAL2-IM-1027-0001.jpeg'),\n",
       " WindowsPath('DL-datasets/Pneumonia X Ray/train/NORMAL/NORMAL2-IM-1028-0001.jpeg'),\n",
       " WindowsPath('DL-datasets/Pneumonia X Ray/train/NORMAL/NORMAL2-IM-1030-0001.jpeg'),\n",
       " WindowsPath('DL-datasets/Pneumonia X Ray/train/NORMAL/NORMAL2-IM-1033-0001.jpeg'),\n",
       " WindowsPath('DL-datasets/Pneumonia X Ray/train/NORMAL/NORMAL2-IM-1035-0001.jpeg'),\n",
       " WindowsPath('DL-datasets/Pneumonia X Ray/train/NORMAL/NORMAL2-IM-1037-0001.jpeg'),\n",
       " WindowsPath('DL-datasets/Pneumonia X Ray/train/NORMAL/NORMAL2-IM-1038-0001.jpeg'),\n",
       " WindowsPath('DL-datasets/Pneumonia X Ray/train/NORMAL/NORMAL2-IM-1039-0001.jpeg'),\n",
       " WindowsPath('DL-datasets/Pneumonia X Ray/train/NORMAL/NORMAL2-IM-1040-0001.jpeg'),\n",
       " WindowsPath('DL-datasets/Pneumonia X Ray/train/NORMAL/NORMAL2-IM-1041-0001.jpeg'),\n",
       " WindowsPath('DL-datasets/Pneumonia X Ray/train/NORMAL/NORMAL2-IM-1043-0001.jpeg'),\n",
       " WindowsPath('DL-datasets/Pneumonia X Ray/train/NORMAL/NORMAL2-IM-1044-0001.jpeg'),\n",
       " WindowsPath('DL-datasets/Pneumonia X Ray/train/NORMAL/NORMAL2-IM-1045-0001.jpeg'),\n",
       " WindowsPath('DL-datasets/Pneumonia X Ray/train/NORMAL/NORMAL2-IM-1046-0001.jpeg'),\n",
       " WindowsPath('DL-datasets/Pneumonia X Ray/train/NORMAL/NORMAL2-IM-1047-0001.jpeg'),\n",
       " WindowsPath('DL-datasets/Pneumonia X Ray/train/NORMAL/NORMAL2-IM-1048-0001.jpeg'),\n",
       " WindowsPath('DL-datasets/Pneumonia X Ray/train/NORMAL/NORMAL2-IM-1049-0001.jpeg'),\n",
       " WindowsPath('DL-datasets/Pneumonia X Ray/train/NORMAL/NORMAL2-IM-1050-0001.jpeg'),\n",
       " WindowsPath('DL-datasets/Pneumonia X Ray/train/NORMAL/NORMAL2-IM-1051-0001.jpeg'),\n",
       " WindowsPath('DL-datasets/Pneumonia X Ray/train/NORMAL/NORMAL2-IM-1052-0001.jpeg'),\n",
       " WindowsPath('DL-datasets/Pneumonia X Ray/train/NORMAL/NORMAL2-IM-1055-0001.jpeg'),\n",
       " WindowsPath('DL-datasets/Pneumonia X Ray/train/NORMAL/NORMAL2-IM-1059-0001.jpeg'),\n",
       " WindowsPath('DL-datasets/Pneumonia X Ray/train/NORMAL/NORMAL2-IM-1064-0001.jpeg'),\n",
       " WindowsPath('DL-datasets/Pneumonia X Ray/train/NORMAL/NORMAL2-IM-1073-0001.jpeg'),\n",
       " WindowsPath('DL-datasets/Pneumonia X Ray/train/NORMAL/NORMAL2-IM-1084-0001.jpeg'),\n",
       " WindowsPath('DL-datasets/Pneumonia X Ray/train/NORMAL/NORMAL2-IM-1086-0001.jpeg'),\n",
       " WindowsPath('DL-datasets/Pneumonia X Ray/train/NORMAL/NORMAL2-IM-1091-0001.jpeg'),\n",
       " WindowsPath('DL-datasets/Pneumonia X Ray/train/NORMAL/NORMAL2-IM-1093-0001.jpeg'),\n",
       " WindowsPath('DL-datasets/Pneumonia X Ray/train/NORMAL/NORMAL2-IM-1094-0001-0002.jpeg'),\n",
       " WindowsPath('DL-datasets/Pneumonia X Ray/train/NORMAL/NORMAL2-IM-1096-0001-0001.jpeg'),\n",
       " WindowsPath('DL-datasets/Pneumonia X Ray/train/NORMAL/NORMAL2-IM-1100-0001.jpeg'),\n",
       " WindowsPath('DL-datasets/Pneumonia X Ray/train/NORMAL/NORMAL2-IM-1104-0001.jpeg')]"
      ]
     },
     "execution_count": 8,
     "metadata": {},
     "output_type": "execute_result"
    }
   ],
   "source": [
    "normal_img"
   ]
  },
  {
   "cell_type": "code",
   "execution_count": 9,
   "id": "ff2747ab",
   "metadata": {},
   "outputs": [
    {
     "data": {
      "text/plain": [
       "250"
      ]
     },
     "execution_count": 9,
     "metadata": {},
     "output_type": "execute_result"
    }
   ],
   "source": [
    "len(normal_img)"
   ]
  },
  {
   "cell_type": "code",
   "execution_count": 10,
   "id": "502f41e3",
   "metadata": {},
   "outputs": [],
   "source": [
    "pneumonia_img = list(train_data.glob('PNEUMONIA/*'))"
   ]
  },
  {
   "cell_type": "code",
   "execution_count": 12,
   "id": "72f9730b",
   "metadata": {},
   "outputs": [
    {
     "data": {
      "text/plain": [
       "88"
      ]
     },
     "execution_count": 12,
     "metadata": {},
     "output_type": "execute_result"
    }
   ],
   "source": [
    "len(pneumonia_img)"
   ]
  },
  {
   "cell_type": "code",
   "execution_count": 11,
   "id": "2e97f834",
   "metadata": {},
   "outputs": [],
   "source": [
    "list1 = list(test_data.glob('PNEUMONIA/*'))"
   ]
  },
  {
   "cell_type": "code",
   "execution_count": 13,
   "id": "d249e0c5",
   "metadata": {},
   "outputs": [
    {
     "data": {
      "text/plain": [
       "50"
      ]
     },
     "execution_count": 13,
     "metadata": {},
     "output_type": "execute_result"
    }
   ],
   "source": [
    "len(list1)"
   ]
  },
  {
   "cell_type": "code",
   "execution_count": 14,
   "id": "cf4ac9bb",
   "metadata": {},
   "outputs": [
    {
     "data": {
      "text/plain": [
       "138"
      ]
     },
     "execution_count": 14,
     "metadata": {},
     "output_type": "execute_result"
    }
   ],
   "source": [
    "pneumonia_img = pneumonia_img+list1\n",
    "len(pneumonia_img)"
   ]
  },
  {
   "cell_type": "code",
   "execution_count": 21,
   "id": "103bb5cb",
   "metadata": {},
   "outputs": [],
   "source": [
    "X = []\n",
    "Y = []\n",
    "\n",
    "for i in normal_img:\n",
    "    \n",
    "    img = cv2.imread(str(i))\n",
    "        \n",
    "    resized_img = cv2.resize(img,(180,180))\n",
    "    \n",
    "    X.append(resized_img)\n",
    "    Y.append(1)"
   ]
  },
  {
   "cell_type": "code",
   "execution_count": 22,
   "id": "45c8a660",
   "metadata": {},
   "outputs": [],
   "source": [
    "for i in pneumonia_img:\n",
    "    \n",
    "    img = cv2.imread(str(i))\n",
    "        \n",
    "    resized_img = cv2.resize(img,(180,180))\n",
    "    \n",
    "    X.append(resized_img)\n",
    "    Y.append(0)"
   ]
  },
  {
   "cell_type": "code",
   "execution_count": 23,
   "id": "54db8cb6",
   "metadata": {},
   "outputs": [],
   "source": [
    "import numpy as np\n",
    "X = np.array(X)\n",
    "Y = np.array(Y)"
   ]
  },
  {
   "cell_type": "code",
   "execution_count": 24,
   "id": "8f7d7ffd",
   "metadata": {},
   "outputs": [],
   "source": [
    "from sklearn.model_selection import train_test_split\n",
    "X_train , X_test , Y_train , Y_test = train_test_split(X,Y,random_state=0)"
   ]
  },
  {
   "cell_type": "code",
   "execution_count": 25,
   "id": "4838dfd1",
   "metadata": {},
   "outputs": [
    {
     "data": {
      "text/plain": [
       "(291, 180, 180, 3)"
      ]
     },
     "execution_count": 25,
     "metadata": {},
     "output_type": "execute_result"
    }
   ],
   "source": [
    "X_train.shape"
   ]
  },
  {
   "cell_type": "code",
   "execution_count": 26,
   "id": "bb1a0864",
   "metadata": {},
   "outputs": [
    {
     "data": {
      "text/plain": [
       "(97, 180, 180, 3)"
      ]
     },
     "execution_count": 26,
     "metadata": {},
     "output_type": "execute_result"
    }
   ],
   "source": [
    "X_test.shape"
   ]
  },
  {
   "cell_type": "code",
   "execution_count": 27,
   "id": "ccddee66",
   "metadata": {},
   "outputs": [
    {
     "data": {
      "text/plain": [
       "(291,)"
      ]
     },
     "execution_count": 27,
     "metadata": {},
     "output_type": "execute_result"
    }
   ],
   "source": [
    "Y_train.shape"
   ]
  },
  {
   "cell_type": "code",
   "execution_count": 28,
   "id": "f31c5ce9",
   "metadata": {},
   "outputs": [],
   "source": [
    "X_train = X_train/255\n",
    "X_test = X_test/255"
   ]
  },
  {
   "cell_type": "code",
   "execution_count": 29,
   "id": "ae63d3c4",
   "metadata": {},
   "outputs": [],
   "source": [
    "from tensorflow import keras\n",
    "from tensorflow.keras import layers\n",
    "from tensorflow.keras.models import Sequential\n",
    "\n",
    "model = Sequential([\n",
    "    \n",
    "    layers.Conv2D(16,3,padding='same',activation='relu'),\n",
    "    layers.MaxPooling2D(),\n",
    "    \n",
    "     layers.Conv2D(32,3,padding='same',activation='relu'),\n",
    "    layers.MaxPooling2D(),\n",
    "    \n",
    "     layers.Conv2D(64,3,padding='same',activation='relu'),\n",
    "    layers.MaxPooling2D(),\n",
    "    \n",
    "    layers.Flatten(),\n",
    "    layers.Dense(128,activation='relu'),\n",
    "    layers.Dense(101)\n",
    "])"
   ]
  },
  {
   "cell_type": "code",
   "execution_count": 30,
   "id": "a65eb950",
   "metadata": {},
   "outputs": [
    {
     "name": "stdout",
     "output_type": "stream",
     "text": [
      "Epoch 1/10\n",
      "10/10 [==============================] - 5s 361ms/step - loss: 1.5308 - accuracy: 0.5326\n",
      "Epoch 2/10\n",
      "10/10 [==============================] - 4s 362ms/step - loss: 0.4969 - accuracy: 0.7491\n",
      "Epoch 3/10\n",
      "10/10 [==============================] - 4s 370ms/step - loss: 0.3087 - accuracy: 0.8660\n",
      "Epoch 4/10\n",
      "10/10 [==============================] - 4s 383ms/step - loss: 0.1818 - accuracy: 0.9244\n",
      "Epoch 5/10\n",
      "10/10 [==============================] - 4s 371ms/step - loss: 0.1036 - accuracy: 0.9622\n",
      "Epoch 6/10\n",
      "10/10 [==============================] - 4s 377ms/step - loss: 0.0539 - accuracy: 0.9931\n",
      "Epoch 7/10\n",
      "10/10 [==============================] - 4s 386ms/step - loss: 0.0385 - accuracy: 0.9863\n",
      "Epoch 8/10\n",
      "10/10 [==============================] - 4s 390ms/step - loss: 0.0221 - accuracy: 0.9931\n",
      "Epoch 9/10\n",
      "10/10 [==============================] - 4s 445ms/step - loss: 0.0105 - accuracy: 1.0000\n",
      "Epoch 10/10\n",
      "10/10 [==============================] - 5s 457ms/step - loss: 0.0053 - accuracy: 1.0000\n"
     ]
    },
    {
     "data": {
      "text/plain": [
       "<keras.src.callbacks.History at 0x15671b3fb90>"
      ]
     },
     "execution_count": 30,
     "metadata": {},
     "output_type": "execute_result"
    }
   ],
   "source": [
    "model.compile(optimizer='adam',loss=tf.keras.losses.SparseCategoricalCrossentropy(from_logits=True),metrics=['accuracy'])\n",
    "\n",
    "model.fit(X_train,Y_train,epochs=10)"
   ]
  },
  {
   "cell_type": "code",
   "execution_count": 31,
   "id": "b6ca7c4d",
   "metadata": {},
   "outputs": [
    {
     "name": "stdout",
     "output_type": "stream",
     "text": [
      "4/4 [==============================] - 0s 66ms/step - loss: 0.1097 - accuracy: 0.9485\n",
      "Loss =  0.1096753478050232\n",
      "Accuracy =  0.9484536051750183\n"
     ]
    }
   ],
   "source": [
    "#Estimation model's performance\n",
    "\n",
    "test_loss , test_acc = model.evaluate(X_test,Y_test)\n",
    "print(\"Loss = \",test_loss)\n",
    "print(\"Accuracy = \",test_acc)"
   ]
  },
  {
   "cell_type": "code",
   "execution_count": 35,
   "id": "c518ff26",
   "metadata": {},
   "outputs": [],
   "source": [
    "import random\n",
    "n = random.randint(0,len(X_test))"
   ]
  },
  {
   "cell_type": "code",
   "execution_count": 36,
   "id": "d8043e82",
   "metadata": {},
   "outputs": [
    {
     "data": {
      "image/png": "[encoded data removed]",
      "text/plain": [
       "<Figure size 1500x200 with 1 Axes>"
      ]
     },
     "metadata": {},
     "output_type": "display_data"
    }
   ],
   "source": [
    "plt.figure(figsize=(15,2))\n",
    "plt.imshow(X_test[n])\n",
    "plt.xlabel(class_name[Y_test[n]])\n",
    "plt.show()"
   ]
  },
  {
   "cell_type": "code",
   "execution_count": 37,
   "id": "0e50dbbe",
   "metadata": {},
   "outputs": [
    {
     "name": "stdout",
     "output_type": "stream",
     "text": [
      "4/4 [==============================] - 0s 64ms/step\n",
      "predicted class  No Pneumonia\n"
     ]
    }
   ],
   "source": [
    "predict_model = model.predict(X_test)\n",
    "print('predicted class ',class_name[np.argmax(predict_model[n])])"
   ]
  },
  {
   "cell_type": "code",
   "execution_count": null,
   "id": "c4feae0b",
   "metadata": {},
   "outputs": [],
   "source": []
  },
  {
   "cell_type": "code",
   "execution_count": null,
   "id": "3c239972",
   "metadata": {},
   "outputs": [],
   "source": []
  }
 ],
 "metadata": {
  "kernelspec": {
   "display_name": "Python 3 (ipykernel)",
   "language": "python",
   "name": "python3"
  },
  "language_info": {
   "codemirror_mode": {
    "name": "ipython",
    "version": 3
   },
   "file_extension": ".py",
   "mimetype": "text/x-python",
   "name": "python",
   "nbconvert_exporter": "python",
   "pygments_lexer": "ipython3",
   "version": "3.11.4"
  }
 },
 "nbformat": 4,
 "nbformat_minor": 5
}
